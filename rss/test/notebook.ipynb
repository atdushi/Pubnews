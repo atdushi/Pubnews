{
 "cells": [
  {
   "cell_type": "code",
   "execution_count": 1,
   "metadata": {},
   "outputs": [],
   "source": [
    "import requests as req \n",
    "from bs4 import BeautifulSoup, CData, Tag\n",
    "import time\n",
    "import tqdm\n",
    "import pickle\n",
    "import pandas as pd"
   ]
  },
  {
   "cell_type": "code",
   "execution_count": 2,
   "metadata": {},
   "outputs": [],
   "source": [
    "# pd.set_option('display.max_columns',None)\n",
    "# pd.set_option('display.max_rows',None)"
   ]
  },
  {
   "cell_type": "code",
   "execution_count": 3,
   "metadata": {},
   "outputs": [],
   "source": [
    "sites = { \n",
    "    'Фонтанка.ру' : ['https://www.fontanka.ru/fontanka.rss', ''],                  \n",
    "    'LENTA.RU' : ['https://lenta.ru/rss', ''],                  \n",
    "    'TASS' : ['https://tass.ru/rss/v2.xml', ''],\n",
    "    'ВЕДОМОСТИ' : ['https://www.vedomosti.ru/rss/news', '']           \n",
    "}"
   ]
  },
  {
   "cell_type": "code",
   "execution_count": 4,
   "metadata": {},
   "outputs": [
    {
     "data": {
      "text/plain": [
       "{'Фонтанка.ру': ['https://www.fontanka.ru/fontanka.rss', ''],\n",
       " 'LENTA.RU': ['https://lenta.ru/rss', ''],\n",
       " 'TASS': ['https://tass.ru/rss/v2.xml', ''],\n",
       " 'ВЕДОМОСТИ': ['https://www.vedomosti.ru/rss/news', '']}"
      ]
     },
     "execution_count": 4,
     "metadata": {},
     "output_type": "execute_result"
    }
   ],
   "source": [
    "sites"
   ]
  },
  {
   "cell_type": "code",
   "execution_count": 5,
   "metadata": {},
   "outputs": [],
   "source": [
    "def parsing():\n",
    "    data = { \"data\" : [] }\n",
    "        \n",
    "    for site in range(len(sites)):\n",
    "        \n",
    "        url = list(sites.values())[site][0]\n",
    "                \n",
    "        resp = req.get(url)\n",
    "\n",
    "        soup = BeautifulSoup(resp.content, features=\"xml\")\n",
    "\n",
    "        tag_item = soup.find_all('item')\n",
    "\n",
    "        for item in tag_item:\n",
    "            data['data'].append({\n",
    "                \"title\": item.title.text,\n",
    "                \"pubDate\": item.pubDate.text,\n",
    "                \"site\": list(sites.keys())[site],\n",
    "            })\n",
    "\n",
    "    return pd.DataFrame(data['data'])"
   ]
  },
  {
   "cell_type": "code",
   "execution_count": 6,
   "metadata": {},
   "outputs": [
    {
     "data": {
      "text/html": [
       "<div>\n",
       "<style scoped>\n",
       "    .dataframe tbody tr th:only-of-type {\n",
       "        vertical-align: middle;\n",
       "    }\n",
       "\n",
       "    .dataframe tbody tr th {\n",
       "        vertical-align: top;\n",
       "    }\n",
       "\n",
       "    .dataframe thead th {\n",
       "        text-align: right;\n",
       "    }\n",
       "</style>\n",
       "<table border=\"1\" class=\"dataframe\">\n",
       "  <thead>\n",
       "    <tr style=\"text-align: right;\">\n",
       "      <th></th>\n",
       "      <th>title</th>\n",
       "      <th>pubDate</th>\n",
       "      <th>site</th>\n",
       "    </tr>\n",
       "  </thead>\n",
       "  <tbody>\n",
       "    <tr>\n",
       "      <th>161</th>\n",
       "      <td>Россиянам назвали вышедшие из моды короткие ст...</td>\n",
       "      <td>Thu, 19 Jan 2023 17:44:35 +0300</td>\n",
       "      <td>LENTA.RU</td>\n",
       "    </tr>\n",
       "    <tr>\n",
       "      <th>42</th>\n",
       "      <td>В офисе Зеленского назвали США лучшим другом У...</td>\n",
       "      <td>Thu, 19 Jan 2023 23:20:00 +0300</td>\n",
       "      <td>LENTA.RU</td>\n",
       "    </tr>\n",
       "    <tr>\n",
       "      <th>389</th>\n",
       "      <td>В Белгородской области сообщили об обстреле се...</td>\n",
       "      <td>Thu, 19 Jan 2023 12:41:24 +0300</td>\n",
       "      <td>ВЕДОМОСТИ</td>\n",
       "    </tr>\n",
       "    <tr>\n",
       "      <th>469</th>\n",
       "      <td>Лавров заявил, что Россия отстоит правду</td>\n",
       "      <td>Wed, 18 Jan 2023 12:39:49 +0300</td>\n",
       "      <td>ВЕДОМОСТИ</td>\n",
       "    </tr>\n",
       "    <tr>\n",
       "      <th>123</th>\n",
       "      <td>В НАТО пожаловались на отсутствие «серебряной ...</td>\n",
       "      <td>Thu, 19 Jan 2023 19:03:00 +0300</td>\n",
       "      <td>LENTA.RU</td>\n",
       "    </tr>\n",
       "    <tr>\n",
       "      <th>215</th>\n",
       "      <td>Пытавшегося вывезти порох на Украину россиянин...</td>\n",
       "      <td>Thu, 19 Jan 2023 16:21:12 +0300</td>\n",
       "      <td>LENTA.RU</td>\n",
       "    </tr>\n",
       "    <tr>\n",
       "      <th>379</th>\n",
       "      <td>Роспотребнадзор оценил идею о запрете вейпов</td>\n",
       "      <td>Thu, 19 Jan 2023 13:49:53 +0300</td>\n",
       "      <td>ВЕДОМОСТИ</td>\n",
       "    </tr>\n",
       "    <tr>\n",
       "      <th>177</th>\n",
       "      <td>Двое иностранцев похитили россиянина из-за дол...</td>\n",
       "      <td>Thu, 19 Jan 2023 17:20:00 +0300</td>\n",
       "      <td>LENTA.RU</td>\n",
       "    </tr>\n",
       "  </tbody>\n",
       "</table>\n",
       "</div>"
      ],
      "text/plain": [
       "                                                 title  \\\n",
       "161  Россиянам назвали вышедшие из моды короткие ст...   \n",
       "42   В офисе Зеленского назвали США лучшим другом У...   \n",
       "389  В Белгородской области сообщили об обстреле се...   \n",
       "469           Лавров заявил, что Россия отстоит правду   \n",
       "123  В НАТО пожаловались на отсутствие «серебряной ...   \n",
       "215  Пытавшегося вывезти порох на Украину россиянин...   \n",
       "379       Роспотребнадзор оценил идею о запрете вейпов   \n",
       "177  Двое иностранцев похитили россиянина из-за дол...   \n",
       "\n",
       "                             pubDate       site  \n",
       "161  Thu, 19 Jan 2023 17:44:35 +0300   LENTA.RU  \n",
       "42   Thu, 19 Jan 2023 23:20:00 +0300   LENTA.RU  \n",
       "389  Thu, 19 Jan 2023 12:41:24 +0300  ВЕДОМОСТИ  \n",
       "469  Wed, 18 Jan 2023 12:39:49 +0300  ВЕДОМОСТИ  \n",
       "123  Thu, 19 Jan 2023 19:03:00 +0300   LENTA.RU  \n",
       "215  Thu, 19 Jan 2023 16:21:12 +0300   LENTA.RU  \n",
       "379  Thu, 19 Jan 2023 13:49:53 +0300  ВЕДОМОСТИ  \n",
       "177  Thu, 19 Jan 2023 17:20:00 +0300   LENTA.RU  "
      ]
     },
     "execution_count": 6,
     "metadata": {},
     "output_type": "execute_result"
    }
   ],
   "source": [
    "df = parsing()\n",
    "df.sample(8)"
   ]
  },
  {
   "cell_type": "code",
   "execution_count": 7,
   "metadata": {},
   "outputs": [],
   "source": [
    "topics = pd.DataFrame(['Библиотека', 'Россия', 'Мир', 'Экономика', 'Интернет и СМИ',\n",
    "       'Спорт', 'Культура', 'Из жизни', 'Силовые структуры',\n",
    "       'Наука и техника', 'Бывший СССР', 'nan', 'Дом', 'Сочи', 'ЧМ-2014',\n",
    "       'Путешествия', 'Ценности', 'Легпром', 'Бизнес', 'МедНовости',\n",
    "       'Оружие', '69-я параллель', 'Культпросвет ', 'Крым'])"
   ]
  },
  {
   "cell_type": "code",
   "execution_count": 8,
   "metadata": {},
   "outputs": [],
   "source": [
    "model = None\n",
    "\n",
    "with (open('../../lenta.ru/models/knb_ppl_clf.pkl', 'rb')) as openfile:\n",
    "    model = pickle.load(openfile)"
   ]
  },
  {
   "cell_type": "code",
   "execution_count": 9,
   "metadata": {},
   "outputs": [],
   "source": [
    "predicted_topics = model.predict(df['title'])"
   ]
  },
  {
   "cell_type": "code",
   "execution_count": 13,
   "metadata": {},
   "outputs": [
    {
     "data": {
      "text/html": [
       "<div>\n",
       "<style scoped>\n",
       "    .dataframe tbody tr th:only-of-type {\n",
       "        vertical-align: middle;\n",
       "    }\n",
       "\n",
       "    .dataframe tbody tr th {\n",
       "        vertical-align: top;\n",
       "    }\n",
       "\n",
       "    .dataframe thead th {\n",
       "        text-align: right;\n",
       "    }\n",
       "</style>\n",
       "<table border=\"1\" class=\"dataframe\">\n",
       "  <thead>\n",
       "    <tr style=\"text-align: right;\">\n",
       "      <th></th>\n",
       "      <th>category</th>\n",
       "      <th>title</th>\n",
       "      <th>pub_date</th>\n",
       "      <th>site</th>\n",
       "      <th>parsed_date</th>\n",
       "    </tr>\n",
       "  </thead>\n",
       "  <tbody>\n",
       "    <tr>\n",
       "      <th>376</th>\n",
       "      <td>Наука и техника</td>\n",
       "      <td>Борисов ожидает завершения строительства старт...</td>\n",
       "      <td>Thu, 19 Jan 2023 14:15:50 +0300</td>\n",
       "      <td>ВЕДОМОСТИ</td>\n",
       "      <td>2023-01-19 14:15:50</td>\n",
       "    </tr>\n",
       "    <tr>\n",
       "      <th>278</th>\n",
       "      <td>Мир</td>\n",
       "      <td>Госдеп следит за данными об открытии ФСБ дела ...</td>\n",
       "      <td>Thu, 19 Jan 2023 23:10:43 +0300</td>\n",
       "      <td>TASS</td>\n",
       "      <td>2023-01-19 23:10:43</td>\n",
       "    </tr>\n",
       "    <tr>\n",
       "      <th>126</th>\n",
       "      <td>Экономика</td>\n",
       "      <td>Модель сделала татуировку на глазном яблоке и ...</td>\n",
       "      <td>Thu, 19 Jan 2023 18:54:00 +0300</td>\n",
       "      <td>LENTA.RU</td>\n",
       "      <td>2023-01-19 18:54:00</td>\n",
       "    </tr>\n",
       "    <tr>\n",
       "      <th>230</th>\n",
       "      <td>Спорт</td>\n",
       "      <td>\"Манчестер Сити\" обыграл \"Тоттенхэм\" в матче ч...</td>\n",
       "      <td>Fri, 20 Jan 2023 00:54:07 +0300</td>\n",
       "      <td>TASS</td>\n",
       "      <td>2023-01-20 00:54:07</td>\n",
       "    </tr>\n",
       "    <tr>\n",
       "      <th>6</th>\n",
       "      <td>Из жизни</td>\n",
       "      <td>Сумеете ли вы отличить Мрака от Сумрака? Ленин...</td>\n",
       "      <td>Thu, 19 Jan 2023 22:53:59 +0300</td>\n",
       "      <td>Фонтанка.ру</td>\n",
       "      <td>2023-01-19 22:53:59</td>\n",
       "    </tr>\n",
       "    <tr>\n",
       "      <th>501</th>\n",
       "      <td>Россия</td>\n",
       "      <td>Песков: Путин не будет объявлять о новой мобил...</td>\n",
       "      <td>Tue, 17 Jan 2023 20:25:05 +0300</td>\n",
       "      <td>ВЕДОМОСТИ</td>\n",
       "      <td>2023-01-17 20:25:05</td>\n",
       "    </tr>\n",
       "    <tr>\n",
       "      <th>108</th>\n",
       "      <td>Интернет и СМИ</td>\n",
       "      <td>Посылка с грязными ботинками из интернет-магаз...</td>\n",
       "      <td>Thu, 19 Jan 2023 19:32:00 +0300</td>\n",
       "      <td>LENTA.RU</td>\n",
       "      <td>2023-01-19 19:32:00</td>\n",
       "    </tr>\n",
       "    <tr>\n",
       "      <th>59</th>\n",
       "      <td>Экономика</td>\n",
       "      <td>Сербия поможет Украине оборудованием для энерг...</td>\n",
       "      <td>Thu, 19 Jan 2023 21:55:00 +0300</td>\n",
       "      <td>LENTA.RU</td>\n",
       "      <td>2023-01-19 21:55:00</td>\n",
       "    </tr>\n",
       "  </tbody>\n",
       "</table>\n",
       "</div>"
      ],
      "text/plain": [
       "            category                                              title  \\\n",
       "376  Наука и техника  Борисов ожидает завершения строительства старт...   \n",
       "278              Мир  Госдеп следит за данными об открытии ФСБ дела ...   \n",
       "126        Экономика  Модель сделала татуировку на глазном яблоке и ...   \n",
       "230            Спорт  \"Манчестер Сити\" обыграл \"Тоттенхэм\" в матче ч...   \n",
       "6           Из жизни  Сумеете ли вы отличить Мрака от Сумрака? Ленин...   \n",
       "501           Россия  Песков: Путин не будет объявлять о новой мобил...   \n",
       "108   Интернет и СМИ  Посылка с грязными ботинками из интернет-магаз...   \n",
       "59         Экономика  Сербия поможет Украине оборудованием для энерг...   \n",
       "\n",
       "                            pub_date         site          parsed_date  \n",
       "376  Thu, 19 Jan 2023 14:15:50 +0300    ВЕДОМОСТИ  2023-01-19 14:15:50  \n",
       "278  Thu, 19 Jan 2023 23:10:43 +0300         TASS  2023-01-19 23:10:43  \n",
       "126  Thu, 19 Jan 2023 18:54:00 +0300     LENTA.RU  2023-01-19 18:54:00  \n",
       "230  Fri, 20 Jan 2023 00:54:07 +0300         TASS  2023-01-20 00:54:07  \n",
       "6    Thu, 19 Jan 2023 22:53:59 +0300  Фонтанка.ру  2023-01-19 22:53:59  \n",
       "501  Tue, 17 Jan 2023 20:25:05 +0300    ВЕДОМОСТИ  2023-01-17 20:25:05  \n",
       "108  Thu, 19 Jan 2023 19:32:00 +0300     LENTA.RU  2023-01-19 19:32:00  \n",
       "59   Thu, 19 Jan 2023 21:55:00 +0300     LENTA.RU  2023-01-19 21:55:00  "
      ]
     },
     "execution_count": 13,
     "metadata": {},
     "output_type": "execute_result"
    }
   ],
   "source": [
    "df_news = pd.concat([pd.Series(predicted_topics), df], ignore_index=True, axis=1)\n",
    "\n",
    "df_news = df_news.rename(columns={0: \"category\", 1: \"title\", 2: \"pub_date\", 3: \"site\"})\n",
    "\n",
    "df_news['parsed_date'] = None\n",
    "for index, row in enumerate(df_news['pub_date']):\n",
    "    parsed = time.strptime(row, \"%a, %d %b %Y %H:%M:%S %z\")\n",
    "    df_news['parsed_date'][index] = time.strftime('%Y-%m-%d %H:%M:%S', parsed)\n",
    "\n",
    "df_news.sample(8)"
   ]
  },
  {
   "cell_type": "code",
   "execution_count": 14,
   "metadata": {},
   "outputs": [],
   "source": [
    "import json\n",
    "from kafka import KafkaProducer\n",
    "\n",
    "producer = KafkaProducer(bootstrap_servers='localhost:9092')\n",
    "\n",
    "def write_to_kafka(df):\n",
    "    hm = {}\n",
    "    for _, row in df.iterrows():\n",
    "        hm[\"category\"] = row[\"category\"]\n",
    "        hm[\"title\"] = row[\"title\"]\n",
    "        hm[\"site\"] = row[\"site\"]\n",
    "        hm[\"pub_date\"] = row[\"parsed_date\"]        \n",
    "        producer.send('foobar', json.dumps(hm).encode('utf-8'))\n",
    "        producer.flush()\n",
    "\n",
    "write_to_kafka(df_news)"
   ]
  }
 ],
 "metadata": {
  "kernelspec": {
   "display_name": "Python 3 (ipykernel)",
   "language": "python",
   "name": "python3"
  },
  "language_info": {
   "codemirror_mode": {
    "name": "ipython",
    "version": 3
   },
   "file_extension": ".py",
   "mimetype": "text/x-python",
   "name": "python",
   "nbconvert_exporter": "python",
   "pygments_lexer": "ipython3",
   "version": "3.10.6"
  },
  "vscode": {
   "interpreter": {
    "hash": "916dbcbb3f70747c44a77c7bcd40155683ae19c65e1c03b4aa3499c5328201f1"
   }
  }
 },
 "nbformat": 4,
 "nbformat_minor": 2
}
