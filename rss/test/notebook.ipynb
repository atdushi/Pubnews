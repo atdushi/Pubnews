{
 "cells": [
  {
   "cell_type": "code",
   "execution_count": 1,
   "metadata": {},
   "outputs": [],
   "source": [
    "import requests as req \n",
    "from bs4 import BeautifulSoup, CData, Tag\n",
    "import time\n",
    "import tqdm\n",
    "import pickle\n",
    "import pandas as pd"
   ]
  },
  {
   "cell_type": "code",
   "execution_count": 2,
   "metadata": {},
   "outputs": [],
   "source": [
    "# pd.set_option('display.max_columns',None)\n",
    "# pd.set_option('display.max_rows',None)"
   ]
  },
  {
   "cell_type": "code",
   "execution_count": 3,
   "metadata": {},
   "outputs": [],
   "source": [
    "sites = { \n",
    "    'Фонтанка.ру' : ['https://www.fontanka.ru/fontanka.rss', ''],                  \n",
    "    'LENTA.RU' : ['https://lenta.ru/rss', ''],                  \n",
    "    'TASS' : ['https://tass.ru/rss/v2.xml', ''],\n",
    "    'ВЕДОМОСТИ' : ['https://www.vedomosti.ru/rss/news', '']           \n",
    "}"
   ]
  },
  {
   "cell_type": "code",
   "execution_count": 4,
   "metadata": {},
   "outputs": [
    {
     "data": {
      "text/plain": [
       "{'Фонтанка.ру': ['https://www.fontanka.ru/fontanka.rss', ''],\n",
       " 'LENTA.RU': ['https://lenta.ru/rss', ''],\n",
       " 'TASS': ['https://tass.ru/rss/v2.xml', ''],\n",
       " 'ВЕДОМОСТИ': ['https://www.vedomosti.ru/rss/news', '']}"
      ]
     },
     "execution_count": 4,
     "metadata": {},
     "output_type": "execute_result"
    }
   ],
   "source": [
    "sites"
   ]
  },
  {
   "cell_type": "code",
   "execution_count": 5,
   "metadata": {},
   "outputs": [],
   "source": [
    "def parsing():\n",
    "    data = { \"data\" : [] }\n",
    "        \n",
    "    for site in range(len(sites)):\n",
    "        \n",
    "        url = list(sites.values())[site][0]\n",
    "                \n",
    "        resp = req.get(url)\n",
    "\n",
    "        soup = BeautifulSoup(resp.content, features=\"xml\")\n",
    "\n",
    "        tag_item = soup.find_all('item')\n",
    "\n",
    "        for item in tag_item:\n",
    "            data['data'].append({\n",
    "                \"title\": item.title.text,\n",
    "                \"pubDate\": item.pubDate.text,\n",
    "                \"site\": list(sites.keys())[site],\n",
    "            })\n",
    "\n",
    "    return pd.DataFrame(data['data'])"
   ]
  },
  {
   "cell_type": "code",
   "execution_count": 6,
   "metadata": {},
   "outputs": [
    {
     "data": {
      "text/html": [
       "<div>\n",
       "<style scoped>\n",
       "    .dataframe tbody tr th:only-of-type {\n",
       "        vertical-align: middle;\n",
       "    }\n",
       "\n",
       "    .dataframe tbody tr th {\n",
       "        vertical-align: top;\n",
       "    }\n",
       "\n",
       "    .dataframe thead th {\n",
       "        text-align: right;\n",
       "    }\n",
       "</style>\n",
       "<table border=\"1\" class=\"dataframe\">\n",
       "  <thead>\n",
       "    <tr style=\"text-align: right;\">\n",
       "      <th></th>\n",
       "      <th>title</th>\n",
       "      <th>pubDate</th>\n",
       "      <th>site</th>\n",
       "    </tr>\n",
       "  </thead>\n",
       "  <tbody>\n",
       "    <tr>\n",
       "      <th>465</th>\n",
       "      <td>В СПЧ допустили возможность отключения YouTube...</td>\n",
       "      <td>Wed, 18 Jan 2023 18:43:14 +0300</td>\n",
       "      <td>ВЕДОМОСТИ</td>\n",
       "    </tr>\n",
       "    <tr>\n",
       "      <th>423</th>\n",
       "      <td>Макрон заявил о беспрецедентном кризисе в Евро...</td>\n",
       "      <td>Thu, 19 Jan 2023 12:44:17 +0300</td>\n",
       "      <td>ВЕДОМОСТИ</td>\n",
       "    </tr>\n",
       "    <tr>\n",
       "      <th>113</th>\n",
       "      <td>Самолет в США пропал без вести на подлете к аэ...</td>\n",
       "      <td>Fri, 20 Jan 2023 12:54:57 +0300</td>\n",
       "      <td>LENTA.RU</td>\n",
       "    </tr>\n",
       "    <tr>\n",
       "      <th>253</th>\n",
       "      <td>В Подмосковье внедрят единый стандарт работы ж...</td>\n",
       "      <td>Fri, 20 Jan 2023 14:10:48 +0300</td>\n",
       "      <td>TASS</td>\n",
       "    </tr>\n",
       "    <tr>\n",
       "      <th>474</th>\n",
       "      <td>ВВП Белоруссии в 2022 году сократился на 4,7%</td>\n",
       "      <td>Wed, 18 Jan 2023 17:14:27 +0300</td>\n",
       "      <td>ВЕДОМОСТИ</td>\n",
       "    </tr>\n",
       "    <tr>\n",
       "      <th>481</th>\n",
       "      <td>Евросоюз поставил Украине вооружений на 11,5 м...</td>\n",
       "      <td>Wed, 18 Jan 2023 15:47:48 +0300</td>\n",
       "      <td>ВЕДОМОСТИ</td>\n",
       "    </tr>\n",
       "    <tr>\n",
       "      <th>169</th>\n",
       "      <td>Россиянин заказал убийство пасынка за миллион ...</td>\n",
       "      <td>Fri, 20 Jan 2023 11:34:00 +0300</td>\n",
       "      <td>LENTA.RU</td>\n",
       "    </tr>\n",
       "    <tr>\n",
       "      <th>461</th>\n",
       "      <td>«Газпром» подписал с Казахстаном «дорожную кар...</td>\n",
       "      <td>Wed, 18 Jan 2023 19:43:21 +0300</td>\n",
       "      <td>ВЕДОМОСТИ</td>\n",
       "    </tr>\n",
       "  </tbody>\n",
       "</table>\n",
       "</div>"
      ],
      "text/plain": [
       "                                                 title  \\\n",
       "465  В СПЧ допустили возможность отключения YouTube...   \n",
       "423  Макрон заявил о беспрецедентном кризисе в Евро...   \n",
       "113  Самолет в США пропал без вести на подлете к аэ...   \n",
       "253  В Подмосковье внедрят единый стандарт работы ж...   \n",
       "474      ВВП Белоруссии в 2022 году сократился на 4,7%   \n",
       "481  Евросоюз поставил Украине вооружений на 11,5 м...   \n",
       "169  Россиянин заказал убийство пасынка за миллион ...   \n",
       "461  «Газпром» подписал с Казахстаном «дорожную кар...   \n",
       "\n",
       "                             pubDate       site  \n",
       "465  Wed, 18 Jan 2023 18:43:14 +0300  ВЕДОМОСТИ  \n",
       "423  Thu, 19 Jan 2023 12:44:17 +0300  ВЕДОМОСТИ  \n",
       "113  Fri, 20 Jan 2023 12:54:57 +0300   LENTA.RU  \n",
       "253  Fri, 20 Jan 2023 14:10:48 +0300       TASS  \n",
       "474  Wed, 18 Jan 2023 17:14:27 +0300  ВЕДОМОСТИ  \n",
       "481  Wed, 18 Jan 2023 15:47:48 +0300  ВЕДОМОСТИ  \n",
       "169  Fri, 20 Jan 2023 11:34:00 +0300   LENTA.RU  \n",
       "461  Wed, 18 Jan 2023 19:43:21 +0300  ВЕДОМОСТИ  "
      ]
     },
     "execution_count": 6,
     "metadata": {},
     "output_type": "execute_result"
    }
   ],
   "source": [
    "df = parsing()\n",
    "df.sample(8)"
   ]
  },
  {
   "cell_type": "code",
   "execution_count": 7,
   "metadata": {},
   "outputs": [],
   "source": [
    "topics = pd.DataFrame(['Библиотека', 'Россия', 'Мир', 'Экономика', 'Интернет и СМИ',\n",
    "       'Спорт', 'Культура', 'Из жизни', 'Силовые структуры',\n",
    "       'Наука и техника', 'Бывший СССР', 'nan', 'Дом', 'Сочи', 'ЧМ-2014',\n",
    "       'Путешествия', 'Ценности', 'Легпром', 'Бизнес', 'МедНовости',\n",
    "       'Оружие', '69-я параллель', 'Культпросвет ', 'Крым'])"
   ]
  },
  {
   "cell_type": "code",
   "execution_count": 8,
   "metadata": {},
   "outputs": [],
   "source": [
    "model = None\n",
    "\n",
    "with (open('../../lenta.ru/models/knb_ppl_clf.pkl', 'rb')) as openfile:\n",
    "    model = pickle.load(openfile)"
   ]
  },
  {
   "cell_type": "code",
   "execution_count": 9,
   "metadata": {},
   "outputs": [],
   "source": [
    "predicted_topics = model.predict(df['title'])"
   ]
  },
  {
   "cell_type": "code",
   "execution_count": 10,
   "metadata": {},
   "outputs": [
    {
     "data": {
      "text/html": [
       "<div>\n",
       "<style scoped>\n",
       "    .dataframe tbody tr th:only-of-type {\n",
       "        vertical-align: middle;\n",
       "    }\n",
       "\n",
       "    .dataframe tbody tr th {\n",
       "        vertical-align: top;\n",
       "    }\n",
       "\n",
       "    .dataframe thead th {\n",
       "        text-align: right;\n",
       "    }\n",
       "</style>\n",
       "<table border=\"1\" class=\"dataframe\">\n",
       "  <thead>\n",
       "    <tr style=\"text-align: right;\">\n",
       "      <th></th>\n",
       "      <th>category</th>\n",
       "      <th>title</th>\n",
       "      <th>pub_date</th>\n",
       "      <th>site</th>\n",
       "      <th>parsed_date</th>\n",
       "    </tr>\n",
       "  </thead>\n",
       "  <tbody>\n",
       "    <tr>\n",
       "      <th>42</th>\n",
       "      <td>Спорт</td>\n",
       "      <td>В Харьковской и Одесской областях произошли вз...</td>\n",
       "      <td>Fri, 20 Jan 2023 14:28:00 +0300</td>\n",
       "      <td>LENTA.RU</td>\n",
       "      <td>2023-01-20 14:28:00</td>\n",
       "    </tr>\n",
       "    <tr>\n",
       "      <th>327</th>\n",
       "      <td>Россия</td>\n",
       "      <td>Новый посол США может прибыть в Россию уже в э...</td>\n",
       "      <td>Fri, 20 Jan 2023 14:39:40 +0300</td>\n",
       "      <td>ВЕДОМОСТИ</td>\n",
       "      <td>2023-01-20 14:39:40</td>\n",
       "    </tr>\n",
       "    <tr>\n",
       "      <th>517</th>\n",
       "      <td>Мир</td>\n",
       "      <td>Глава МИД ЮАР заявила, что БРИКС ищет замену д...</td>\n",
       "      <td>Wed, 18 Jan 2023 10:36:00 +0300</td>\n",
       "      <td>ВЕДОМОСТИ</td>\n",
       "      <td>2023-01-18 10:36:00</td>\n",
       "    </tr>\n",
       "    <tr>\n",
       "      <th>85</th>\n",
       "      <td>Интернет и СМИ</td>\n",
       "      <td>Власти Украины заявили об обещании Meta не бло...</td>\n",
       "      <td>Fri, 20 Jan 2023 13:39:00 +0300</td>\n",
       "      <td>LENTA.RU</td>\n",
       "      <td>2023-01-20 13:39:00</td>\n",
       "    </tr>\n",
       "    <tr>\n",
       "      <th>439</th>\n",
       "      <td>Россия</td>\n",
       "      <td>В Белгородской области сообщили об обстреле не...</td>\n",
       "      <td>Thu, 19 Jan 2023 10:27:48 +0300</td>\n",
       "      <td>ВЕДОМОСТИ</td>\n",
       "      <td>2023-01-19 10:27:48</td>\n",
       "    </tr>\n",
       "    <tr>\n",
       "      <th>411</th>\n",
       "      <td>Наука и техника</td>\n",
       "      <td>Борисов ожидает завершения строительства старт...</td>\n",
       "      <td>Thu, 19 Jan 2023 14:15:50 +0300</td>\n",
       "      <td>ВЕДОМОСТИ</td>\n",
       "      <td>2023-01-19 14:15:50</td>\n",
       "    </tr>\n",
       "    <tr>\n",
       "      <th>403</th>\n",
       "      <td>Наука и техника</td>\n",
       "      <td>В Минцифры сообщили о льготах для мобильных оп...</td>\n",
       "      <td>Thu, 19 Jan 2023 15:02:37 +0300</td>\n",
       "      <td>ВЕДОМОСТИ</td>\n",
       "      <td>2023-01-19 15:02:37</td>\n",
       "    </tr>\n",
       "    <tr>\n",
       "      <th>87</th>\n",
       "      <td>Мир</td>\n",
       "      <td>В Чехии объяснили срочное наращивание оружия в ЕС</td>\n",
       "      <td>Fri, 20 Jan 2023 13:37:00 +0300</td>\n",
       "      <td>LENTA.RU</td>\n",
       "      <td>2023-01-20 13:37:00</td>\n",
       "    </tr>\n",
       "  </tbody>\n",
       "</table>\n",
       "</div>"
      ],
      "text/plain": [
       "            category                                              title  \\\n",
       "42             Спорт  В Харьковской и Одесской областях произошли вз...   \n",
       "327           Россия  Новый посол США может прибыть в Россию уже в э...   \n",
       "517              Мир  Глава МИД ЮАР заявила, что БРИКС ищет замену д...   \n",
       "85    Интернет и СМИ  Власти Украины заявили об обещании Meta не бло...   \n",
       "439           Россия  В Белгородской области сообщили об обстреле не...   \n",
       "411  Наука и техника  Борисов ожидает завершения строительства старт...   \n",
       "403  Наука и техника  В Минцифры сообщили о льготах для мобильных оп...   \n",
       "87               Мир  В Чехии объяснили срочное наращивание оружия в ЕС   \n",
       "\n",
       "                            pub_date       site          parsed_date  \n",
       "42   Fri, 20 Jan 2023 14:28:00 +0300   LENTA.RU  2023-01-20 14:28:00  \n",
       "327  Fri, 20 Jan 2023 14:39:40 +0300  ВЕДОМОСТИ  2023-01-20 14:39:40  \n",
       "517  Wed, 18 Jan 2023 10:36:00 +0300  ВЕДОМОСТИ  2023-01-18 10:36:00  \n",
       "85   Fri, 20 Jan 2023 13:39:00 +0300   LENTA.RU  2023-01-20 13:39:00  \n",
       "439  Thu, 19 Jan 2023 10:27:48 +0300  ВЕДОМОСТИ  2023-01-19 10:27:48  \n",
       "411  Thu, 19 Jan 2023 14:15:50 +0300  ВЕДОМОСТИ  2023-01-19 14:15:50  \n",
       "403  Thu, 19 Jan 2023 15:02:37 +0300  ВЕДОМОСТИ  2023-01-19 15:02:37  \n",
       "87   Fri, 20 Jan 2023 13:37:00 +0300   LENTA.RU  2023-01-20 13:37:00  "
      ]
     },
     "execution_count": 10,
     "metadata": {},
     "output_type": "execute_result"
    }
   ],
   "source": [
    "df_news = pd.concat([pd.Series(predicted_topics), df], ignore_index=True, axis=1)\n",
    "\n",
    "df_news = df_news.rename(columns={0: \"category\", 1: \"title\", 2: \"pub_date\", 3: \"site\"})\n",
    "\n",
    "df_news['parsed_date'] = None\n",
    "for index, row in enumerate(df_news['pub_date']):\n",
    "    parsed = time.strptime(row, \"%a, %d %b %Y %H:%M:%S %z\")\n",
    "    df_news['parsed_date'][index] = time.strftime('%Y-%m-%d %H:%M:%S', parsed)\n",
    "\n",
    "df_news.sample(8)"
   ]
  },
  {
   "cell_type": "code",
   "execution_count": 11,
   "metadata": {},
   "outputs": [],
   "source": [
    "import json\n",
    "from kafka import KafkaProducer\n",
    "\n",
    "producer = KafkaProducer(bootstrap_servers='localhost:9092')\n",
    "\n",
    "def write_to_kafka(df):\n",
    "    hm = {}\n",
    "    for _, row in df.iterrows():\n",
    "        hm[\"category\"] = row[\"category\"]\n",
    "        hm[\"title\"] = row[\"title\"]\n",
    "        hm[\"site\"] = row[\"site\"]\n",
    "        hm[\"pub_date\"] = row[\"parsed_date\"]        \n",
    "        producer.send('foobar', json.dumps(hm).encode('utf-8'))\n",
    "        producer.flush()\n",
    "\n",
    "write_to_kafka(df_news)"
   ]
  }
 ],
 "metadata": {
  "kernelspec": {
   "display_name": "Python 3 (ipykernel)",
   "language": "python",
   "name": "python3"
  },
  "language_info": {
   "codemirror_mode": {
    "name": "ipython",
    "version": 3
   },
   "file_extension": ".py",
   "mimetype": "text/x-python",
   "name": "python",
   "nbconvert_exporter": "python",
   "pygments_lexer": "ipython3",
   "version": "3.10.6"
  },
  "vscode": {
   "interpreter": {
    "hash": "916dbcbb3f70747c44a77c7bcd40155683ae19c65e1c03b4aa3499c5328201f1"
   }
  }
 },
 "nbformat": 4,
 "nbformat_minor": 2
}
